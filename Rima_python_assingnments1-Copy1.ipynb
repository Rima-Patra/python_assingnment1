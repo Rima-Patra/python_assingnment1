{
 "cells": [
  {
   "cell_type": "markdown",
   "id": "8fbd607d",
   "metadata": {},
   "source": [
    "# (1) declare two variables, x and y and assingn them integer values. swap the values of this variables without using anu temporary variable."
   ]
  },
  {
   "cell_type": "code",
   "execution_count": 1,
   "id": "af90362e",
   "metadata": {},
   "outputs": [
    {
     "name": "stdout",
     "output_type": "stream",
     "text": [
      "the value of x is: 10\n",
      "the value of y is : 6\n"
     ]
    }
   ],
   "source": [
    "x = 6\n",
    "y = 10\n",
    "x, y = y, x\n",
    "print(\"the value of x is:\", x)\n",
    "print(\"the value of y is :\", y)"
   ]
  },
  {
   "cell_type": "markdown",
   "id": "4428db08",
   "metadata": {},
   "source": [
    "# (2) create a program that calculates the area of rectangle. Take the length and widths as inputs from th#e users and store them in variables. calculate and display the area."
   ]
  },
  {
   "cell_type": "code",
   "execution_count": 3,
   "id": "f3a8d7bb",
   "metadata": {},
   "outputs": [
    {
     "name": "stdout",
     "output_type": "stream",
     "text": [
      "enter the length:10\n",
      "enter the width:10\n",
      "area of the rectangle is: 100\n"
     ]
    }
   ],
   "source": [
    "length = int(input(\"enter the length:\"))\n",
    "width = (int(input(\"enter the width:\")))\n",
    "print(\"area of the rectangle is:\", length * width)"
   ]
  },
  {
   "cell_type": "markdown",
   "id": "c9b65223",
   "metadata": {},
   "source": [
    "# (3) write a python program that convaerts temparatures from celcius tp farenheit . Take the temparature in Celcius as input, store in avariable, convert it into farenheit, and display the result."
   ]
  },
  {
   "cell_type": "code",
   "execution_count": 6,
   "id": "7e002bbd",
   "metadata": {},
   "outputs": [
    {
     "name": "stdout",
     "output_type": "stream",
     "text": [
      "enter the temparature in celcius:30\n",
      "the farenheit tempareture of30 degree cecius is  86.0 degree farenheit\n"
     ]
    }
   ],
   "source": [
    "C = int(input(\"enter the temparature in celcius:\"))\n",
    "F = (9*C/5)+32 #c/5=(f-32)/9\n",
    "print(F\"the farenheit tempareture of{C} degree cecius is \",F,\"degree farenheit\")"
   ]
  },
  {
   "cell_type": "markdown",
   "id": "399ea5d9",
   "metadata": {},
   "source": [
    "# (4) write a python program that takes a string as input and prints the length of the string."
   ]
  },
  {
   "cell_type": "code",
   "execution_count": 7,
   "id": "500b938e",
   "metadata": {},
   "outputs": [
    {
     "name": "stdout",
     "output_type": "stream",
     "text": [
      "enter the stringRima\n",
      "4\n"
     ]
    }
   ],
   "source": [
    "string = input(\"enter the string\")\n",
    "print(len(string))"
   ]
  },
  {
   "cell_type": "markdown",
   "id": "3b3414db",
   "metadata": {},
   "source": [
    "# (5) write a python program that takes a sentence from the user and counts the number of vowels(a,e,i,o,u) in the string."
   ]
  },
  {
   "cell_type": "code",
   "execution_count": 15,
   "id": "a27e1e5e",
   "metadata": {},
   "outputs": [
    {
     "name": "stdout",
     "output_type": "stream",
     "text": [
      "enter the sentence:I am a student of data science university of KALYANI.\n",
      "total vowels:1\n",
      "total vowels:1\n",
      "total vowels:2\n",
      "total vowels:2\n",
      "total vowels:2\n",
      "total vowels:3\n",
      "total vowels:3\n",
      "total vowels:3\n",
      "total vowels:3\n",
      "total vowels:4\n",
      "total vowels:4\n",
      "total vowels:5\n",
      "total vowels:5\n",
      "total vowels:5\n",
      "total vowels:5\n",
      "total vowels:6\n",
      "total vowels:6\n",
      "total vowels:6\n",
      "total vowels:6\n",
      "total vowels:7\n",
      "total vowels:7\n",
      "total vowels:8\n",
      "total vowels:8\n",
      "total vowels:8\n",
      "total vowels:8\n",
      "total vowels:9\n",
      "total vowels:10\n",
      "total vowels:10\n",
      "total vowels:10\n",
      "total vowels:11\n",
      "total vowels:11\n",
      "total vowels:12\n",
      "total vowels:12\n",
      "total vowels:13\n",
      "total vowels:13\n",
      "total vowels:14\n",
      "total vowels:14\n",
      "total vowels:14\n",
      "total vowels:15\n",
      "total vowels:15\n",
      "total vowels:15\n",
      "total vowels:15\n",
      "total vowels:16\n",
      "total vowels:16\n",
      "total vowels:16\n",
      "total vowels:16\n",
      "total vowels:17\n",
      "total vowels:17\n",
      "total vowels:17\n",
      "total vowels:18\n",
      "total vowels:18\n",
      "total vowels:19\n",
      "total vowels:19\n"
     ]
    }
   ],
   "source": [
    "string = input(\"enter the sentence:\")\n",
    "count = 0\n",
    "string = string.lower()\n",
    "for i in string:\n",
    "    if i ==\"a\" or i ==\"e\" or i ==\"i\" or i == \"o\" or i == \"u\" or i == \"A\" or i == \"E\" or i == \"I\" or i == \"O\" or i ==\"U\":\n",
    "        count = count +1\n",
    "    if count == 0:\n",
    "        print(\"there is no vowel.\")\n",
    "    else:\n",
    "        print(\"total vowels:\" + str(count))"
   ]
  },
  {
   "cell_type": "markdown",
   "id": "83575898",
   "metadata": {},
   "source": [
    "# (6) given a string  reverse the order of charecters  using string slicing and print  the reverse string"
   ]
  },
  {
   "cell_type": "code",
   "execution_count": 19,
   "id": "28f0e709",
   "metadata": {},
   "outputs": [
    {
     "name": "stdout",
     "output_type": "stream",
     "text": [
      "enter the string:Rima\n",
      "reverse the string \"Rima\" is amiR\n"
     ]
    }
   ],
   "source": [
    "str = input(\"enter the string:\")\n",
    "l = str[ :: -1]\n",
    "print(f'reverse the string \"{str}\" is', l)"
   ]
  },
  {
   "cell_type": "markdown",
   "id": "c9acd57a",
   "metadata": {},
   "source": [
    "# (7) write a program that takes  a string as input and checks if it is a palindrome.(read the same forword and backwords)."
   ]
  },
  {
   "cell_type": "code",
   "execution_count": 21,
   "id": "973b9e32",
   "metadata": {},
   "outputs": [
    {
     "name": "stdout",
     "output_type": "stream",
     "text": [
      "enter the string:root\n",
      "root is not palindrome\n"
     ]
    }
   ],
   "source": [
    "str = input(\"enter the string:\")\n",
    "s = str.lower()\n",
    "l = str[ ::-1]\n",
    "if s == l:\n",
    "    print(f'{s} is a palindrome.')\n",
    "else:\n",
    "    print(f'{s} is not palindrome')"
   ]
  },
  {
   "cell_type": "markdown",
   "id": "9a426c22",
   "metadata": {},
   "source": [
    "# (8) create a program that thakes  astring as a input ans remove all the shapes from it  print the modified string witjout spaces."
   ]
  },
  {
   "cell_type": "code",
   "execution_count": 26,
   "id": "4c03a630",
   "metadata": {},
   "outputs": [
    {
     "name": "stdout",
     "output_type": "stream",
     "text": [
      "enter the string:Good morning\n",
      "Goodmorning"
     ]
    }
   ],
   "source": [
    "string = input(\"enter the string:\")\n",
    "for i in string:\n",
    "    if i !=' ':\n",
    "        print(i, end ='')"
   ]
  },
  {
   "cell_type": "code",
   "execution_count": null,
   "id": "5c7c4fa8",
   "metadata": {},
   "outputs": [],
   "source": []
  },
  {
   "cell_type": "code",
   "execution_count": null,
   "id": "574bf945",
   "metadata": {},
   "outputs": [],
   "source": []
  }
 ],
 "metadata": {
  "kernelspec": {
   "display_name": "Python 3 (ipykernel)",
   "language": "python",
   "name": "python3"
  },
  "language_info": {
   "codemirror_mode": {
    "name": "ipython",
    "version": 3
   },
   "file_extension": ".py",
   "mimetype": "text/x-python",
   "name": "python",
   "nbconvert_exporter": "python",
   "pygments_lexer": "ipython3",
   "version": "3.11.5"
  }
 },
 "nbformat": 4,
 "nbformat_minor": 5
}
